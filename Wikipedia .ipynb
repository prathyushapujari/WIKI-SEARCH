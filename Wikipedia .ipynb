{
 "cells": [
  {
   "cell_type": "code",
   "execution_count": 4,
   "id": "0332ef87",
   "metadata": {},
   "outputs": [],
   "source": [
    "from tkinter import*\n",
    "from tkinter import messagebox\n",
    "import wikipedia as wiki\n",
    "import os\n",
    "\n",
    "mst =Tk()\n",
    "mst.title(\"Wiki Search\")\n",
    "font_format=(\"Arial\",17,\"bold italic\")\n",
    "\n",
    "def search():\n",
    "    a =wiki.summary(entry.get())\n",
    "    with open(\"textfile.txt\",\"w\") as file:\n",
    "        file.write(a)\n",
    "    \n",
    "def openn():\n",
    "    os.system(\"textfile.txt\")\n",
    "      \n",
    "label1=Label(mst,text=\"Enter the Key Word\",font=font_format)\n",
    "entry = Entry(mst)\n",
    "text=Text(mst)\n",
    "\n",
    "button1 = Button(mst, text = \"Search and Save\", padx=30,pady=10,command = search,  font = font_format)\n",
    "\n",
    "button2 = Button(mst, text = \"Open\", padx = 30, pady=10, command = openn, font = font_format)\n",
    "\n",
    "\n",
    "\n",
    "label1.pack()\n",
    "entry.pack()\n",
    "text.pack()\n",
    "button1.pack()\n",
    "button2.pack()\n",
    "\n",
    "mst.mainloop()"
   ]
  },
  {
   "cell_type": "code",
   "execution_count": null,
   "id": "ec91a195",
   "metadata": {},
   "outputs": [],
   "source": []
  }
 ],
 "metadata": {
  "kernelspec": {
   "display_name": "Python 3",
   "language": "python",
   "name": "python3"
  },
  "language_info": {
   "codemirror_mode": {
    "name": "ipython",
    "version": 3
   },
   "file_extension": ".py",
   "mimetype": "text/x-python",
   "name": "python",
   "nbconvert_exporter": "python",
   "pygments_lexer": "ipython3",
   "version": "3.8.8"
  }
 },
 "nbformat": 4,
 "nbformat_minor": 5
}
